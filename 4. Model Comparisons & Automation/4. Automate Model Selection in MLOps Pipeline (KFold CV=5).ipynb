{
 "cells": [
  {
   "cell_type": "code",
   "execution_count": 1,
   "metadata": {
    "scrolled": false
   },
   "outputs": [
    {
     "name": "stderr",
     "output_type": "stream",
     "text": [
      "Processing models: 100%|████████████████████████████████████████████████████████████████████████████| 12/12 [03:39<00:00, 18.30s/it]"
     ]
    },
    {
     "name": "stdout",
     "output_type": "stream",
     "text": [
      "                     MAE Train  MAPE Train  R^2 Train      MAE Test  MAPE Test  R^2 Test\n",
      "Model                                                                                   \n",
      "MLR               22877.293130    0.143899   0.820736  24144.829028  14.939224  0.814249\n",
      "Ridge             22803.674047    0.143309   0.821687  24087.045288  14.903252  0.814555\n",
      "Lasso             23027.930275    0.141894   0.824433  24126.414097  14.927346  0.814335\n",
      "Elastic Net       22670.249171    0.140141   0.822098  24136.363135  15.022549  0.804845\n",
      "Decision Tree      8092.363283    0.055909   0.884954   4466.717054   3.456067  0.979152\n",
      "Random Forest     10448.947955    0.062319   0.933208   8561.579935   5.928622  0.968358\n",
      "XGBoost            7901.543350    0.051390   0.958402   5334.677737   3.431720  0.984207\n",
      "SVR               56019.941905    0.317628  -0.056268  60388.203104  35.683545 -0.065949\n",
      "Stacked Ensemble   8567.292847    0.052665   0.956181   5272.859113   3.296901  0.984482\n",
      "LGBM              11053.827320    0.065339   0.938871  10228.116573   6.937427  0.957313\n",
      "MLP               31519.796867    0.191316   0.697734  35120.798960  23.139313  0.674677\n",
      "Kernel Ridge      24226.822764    0.153539   0.812459  25642.937904  16.114121  0.802023\n"
     ]
    },
    {
     "name": "stderr",
     "output_type": "stream",
     "text": [
      "\n"
     ]
    }
   ],
   "source": [
    "import pandas as pd\n",
    "import numpy as np\n",
    "from sklearn.model_selection import cross_val_score, KFold, train_test_split\n",
    "from sklearn.linear_model import LinearRegression, Ridge, Lasso, ElasticNet, RidgeCV, LassoCV\n",
    "from sklearn.tree import DecisionTreeRegressor\n",
    "from sklearn.ensemble import RandomForestRegressor, StackingRegressor\n",
    "from xgboost import XGBRegressor\n",
    "from sklearn.svm import SVR\n",
    "from sklearn.metrics import mean_absolute_error, r2_score\n",
    "from tqdm import tqdm\n",
    "import matplotlib.pyplot as plt\n",
    "from sklearn.neural_network import MLPRegressor\n",
    "from lightgbm import LGBMRegressor\n",
    "from sklearn.kernel_ridge import KernelRidge\n",
    "%matplotlib inline\n",
    "\n",
    "import warnings\n",
    "from sklearn.exceptions import ConvergenceWarning\n",
    "\n",
    "warnings.filterwarnings(\"ignore\", category=ConvergenceWarning)\n",
    "\n",
    "imputed_data = pd.read_csv(\"imputed_data_handle_multicollinearity.csv\")\n",
    "\n",
    "# Prepare the data\n",
    "X = imputed_data[['OverallQual','GrLivArea','TotalBsmtSF','1stFlrSF','GarageArea',    \n",
    "                   'YearBuilt','YearRemodAdd','BsmtFinSF1','BsmtUnfSF','Fireplaces',\n",
    "                  'Neighborhood_Blueste', 'Neighborhood_BrDale','Neighborhood_BrkSide', \n",
    "                  'Neighborhood_ClearCr', 'Neighborhood_CollgCr', 'Neighborhood_Crawfor', \n",
    "                  'Neighborhood_Edwards', 'Neighborhood_Gilbert', 'Neighborhood_Greens', \n",
    "                  'Neighborhood_GrnHill', 'Neighborhood_IDOTRR', 'Neighborhood_Landmrk', \n",
    "                  'Neighborhood_MeadowV', 'Neighborhood_Mitchel', 'Neighborhood_NAmes', \n",
    "                  'Neighborhood_NPkVill', 'Neighborhood_NWAmes', 'Neighborhood_NoRidge', \n",
    "                  'Neighborhood_NridgHt', 'Neighborhood_OldTown', 'Neighborhood_SWISU', \n",
    "                  'Neighborhood_Sawyer', 'Neighborhood_SawyerW', 'Neighborhood_Somerst', \n",
    "                  'Neighborhood_StoneBr', 'Neighborhood_Timber', 'Neighborhood_Veenker']]\n",
    "\n",
    "y = imputed_data['SalePrice']\n",
    "\n",
    "# Split the data into training and testing sets\n",
    "X_train, X_test, y_train, y_test = train_test_split(X, y, test_size=0.3, random_state=42)\n",
    "\n",
    "# Define the models\n",
    "mlr = LinearRegression()\n",
    "ridge = Ridge()\n",
    "lasso = Lasso()\n",
    "elastic = ElasticNet()\n",
    "dt = DecisionTreeRegressor()\n",
    "rf = RandomForestRegressor()\n",
    "xgb = XGBRegressor()\n",
    "svr = SVR(kernel='rbf', C=1e3, gamma=0.1)\n",
    "lgbm = LGBMRegressor()\n",
    "mlp = MLPRegressor()\n",
    "kr = KernelRidge()\n",
    "\n",
    "# Define base estimators to be used in the ensemble\n",
    "base_estimators = [('rf', RandomForestRegressor()),\n",
    "                   ('xgb', XGBRegressor()),\n",
    "                   ('dt', DecisionTreeRegressor())]\n",
    "\n",
    "# Define a final estimator to combine the predictions of the base estimators\n",
    "final_estimator = StackingRegressor(estimators=[('ridge', RidgeCV()),\n",
    "                                                 ('lasso', LassoCV())])\n",
    "\n",
    "# Define a StackingRegressor object with the base and final estimator\n",
    "stacked = StackingRegressor(estimators=base_estimators, final_estimator=final_estimator)\n",
    "\n",
    "# Split the data into train and test sets\n",
    "X_train, X_test, y_train, y_test = train_test_split(X, y, test_size=0.3)\n",
    "\n",
    "# Define the cross-validation strategy\n",
    "cv = KFold(n_splits=5, shuffle=True)\n",
    "\n",
    "# Fit and evaluate each model using cross-validation\n",
    "models = {'MLR': mlr, 'Ridge': ridge, 'Lasso': lasso, 'Elastic Net': elastic, 'Decision Tree': dt, 'Random Forest': rf, 'XGBoost': xgb, 'SVR': svr, 'Stacked Ensemble': stacked, 'LGBM':lgbm, 'MLP':mlp, 'Kernel Ridge': kr}\n",
    "\n",
    "# Define an empty list to store the R-squared values for each model\n",
    "r2_values_train = []\n",
    "r2_values_test = []\n",
    "\n",
    "metrics_dict = {}\n",
    "for name, model in tqdm(models.items(), desc=\"Processing models\"):\n",
    "    metrics_dict[name] = []\n",
    "    \n",
    "    # Evaluate the model using cross-validation on the training set\n",
    "    mae_train = -cross_val_score(model, X_train, y_train, cv=cv, scoring='neg_mean_absolute_error')\n",
    "    mape_train = -cross_val_score(model, X_train, y_train, cv=cv, scoring='neg_mean_absolute_percentage_error')\n",
    "    r2_train = cross_val_score(model, X_train, y_train, cv=cv, scoring='r2').flatten()  # use flatten() here\n",
    "    \n",
    "    # Evaluate the model on the test set\n",
    "    model.fit(X_train, y_train)\n",
    "    y_pred_test = model.predict(X_test)\n",
    "    mae_test = mean_absolute_error(y_test, y_pred_test)\n",
    "    mape_test = np.mean(np.abs((y_test - y_pred_test) / y_test)) * 100\n",
    "    r2_test = r2_score(y_test, y_pred_test)\n",
    "    \n",
    "    metrics_dict[name].extend([mae_train.mean(), mape_train.mean(), r2_train.mean(), mae_test, mape_test, r2_test])\n",
    "    r2_values_train.append(r2_train.flatten())  # use flatten() here\n",
    "    r2_values_test.append(r2_test)\n",
    "\n",
    "# Create a DataFrame and print the results\n",
    "metrics_df = pd.DataFrame(metrics_dict, index=['MAE Train', 'MAPE Train', 'R^2 Train', 'MAE Test', 'MAPE Test', 'R^2 Test']).T\n",
    "metrics_df.index.name = 'Model'\n",
    "print(metrics_df.to_string())\n"
   ]
  },
  {
   "cell_type": "code",
   "execution_count": 2,
   "metadata": {},
   "outputs": [
    {
     "data": {
      "image/png": "[encoded data removed]",
      "text/plain": [
       "<Figure size 1152x432 with 1 Axes>"
      ]
     },
     "metadata": {
      "needs_background": "light"
     },
     "output_type": "display_data"
    },
    {
     "name": "stdout",
     "output_type": "stream",
     "text": [
      "The best performing model is Stacked Ensemble, with an R^2 score of 0.984.\n"
     ]
    }
   ],
   "source": [
    "fig, ax = plt.subplots(figsize=(16, 6))\n",
    "\n",
    "# Boxplot of R^2 values for each model\n",
    "bp = ax.boxplot(r2_values_train, labels=list(models.keys()))\n",
    "\n",
    "# Set the label of the y-axis\n",
    "ax.set_ylabel('R^2')\n",
    "\n",
    "# Set the title of the plot\n",
    "ax.set_title('R^2 Values of each KFold (cv=5) for Each Model\\n\\n Red Dot is R^2 of Test Set')\n",
    "\n",
    "# Plot a red dot of the R^2 of the test set\n",
    "for i in range(len(r2_values_test)):\n",
    "    ax.plot(i+1, r2_values_test[i], 'ro')\n",
    "    ax.annotate(round(r2_values_test[i], 3), (i+1.1, r2_values_test[i]), fontsize=12, color='purple', fontweight='bold')\n",
    "\n",
    "# Set the x-ticks to the model names\n",
    "plt.xticks(np.arange(1, len(models) + 1), list(models.keys()), rotation=45)\n",
    "\n",
    "# Show the plot\n",
    "plt.show()\n",
    "\n",
    "best_model = metrics_df['R^2 Test'].idxmax()\n",
    "best_r2_score = metrics_df.loc[best_model, 'R^2 Test']\n",
    "\n",
    "print(f'The best performing model is {best_model}, with an R^2 score of {best_r2_score:.3f}.')"
   ]
  },
  {
   "cell_type": "code",
   "execution_count": 3,
   "metadata": {},
   "outputs": [
    {
     "name": "stdout",
     "output_type": "stream",
     "text": [
      "Best performing model based on lowest MAE: Decision Tree (MAE=4466.72)\n",
      "Best performing model based on lowest MAPE: Stacked Ensemble (MAPE=329.69%)\n",
      "Best performing model based on highest R^2: Stacked Ensemble (R^2=0.98)\n"
     ]
    }
   ],
   "source": [
    "# Find the model with the lowest MAE\n",
    "min_mae_model = metrics_df['MAE Test'].idxmin()\n",
    "min_mae_value = metrics_df.loc[min_mae_model, 'MAE Test']\n",
    "\n",
    "# Find the model with the lowest MAPE\n",
    "min_mape_model = metrics_df['MAPE Test'].idxmin()\n",
    "min_mape_value = metrics_df.loc[min_mape_model, 'MAPE Test']\n",
    "\n",
    "# Find the model with the highest R^2\n",
    "max_r2_model = metrics_df['R^2 Test'].idxmax()\n",
    "max_r2_value = metrics_df.loc[max_r2_model, 'R^2 Test']\n",
    "\n",
    "print(f\"Best performing model based on lowest MAE: {min_mae_model} (MAE={min_mae_value:.2f})\")\n",
    "print(f\"Best performing model based on lowest MAPE: {min_mape_model} (MAPE={min_mape_value:.2%})\")\n",
    "print(f\"Best performing model based on highest R^2: {max_r2_model} (R^2={max_r2_value:.2f})\")"
   ]
  },
  {
   "cell_type": "code",
   "execution_count": 4,
   "metadata": {
    "scrolled": true
   },
   "outputs": [
    {
     "data": {
      "image/png": "[encoded data removed]",
      "text/plain": [
       "<Figure size 1080x432 with 3 Axes>"
      ]
     },
     "metadata": {
      "needs_background": "light"
     },
     "output_type": "display_data"
    }
   ],
   "source": [
    "# Extract the metrics for each model\n",
    "mae_values = metrics_df['MAE Test'].values\n",
    "mape_values = metrics_df['MAPE Test'].values\n",
    "r2_values = metrics_df['R^2 Test'].values\n",
    "labels = metrics_df.index.values\n",
    "\n",
    "# Sort the metrics in the desired order\n",
    "mae_idx = mae_values.argsort()[::-1]\n",
    "mape_idx = mape_values.argsort()[::-1]\n",
    "r2_idx = r2_values.argsort()\n",
    "\n",
    "# Set up the figure\n",
    "fig, axs = plt.subplots(1, 3, figsize=(15, 6))\n",
    "\n",
    "# Create bar charts for each metric\n",
    "axs[0].barh(labels[mae_idx], mae_values[mae_idx])\n",
    "axs[0].set_title('MAE - Model Perf. Ranking')\n",
    "axs[0].set_xlabel('Value')\n",
    "axs[1].barh(labels[mape_idx], mape_values[mape_idx])\n",
    "axs[1].set_title('MAPE - Model Perf. Ranking')\n",
    "axs[1].set_xlabel('Value')\n",
    "axs[2].barh(labels[r2_idx], r2_values[r2_idx])\n",
    "axs[2].set_title('R^2 - Model Perf. Ranking')\n",
    "axs[2].set_xlabel('Value')\n",
    "\n",
    "# Adjust spacing between subplots\n",
    "plt.subplots_adjust(wspace=1)\n",
    "\n",
    "# Show the plot\n",
    "plt.show()"
   ]
  },
  {
   "cell_type": "markdown",
   "metadata": {},
   "source": [
    "Stacking is a method that combines multiple models to improve the overall predictive performance. The idea behind stacking is that by combining the predictions of several models, we can take advantage of their strengths and compensate for their weaknesses, resulting in a more accurate and robust model.\n",
    "\n",
    "In a stacked ensemble, the base models should ideally be models that are individually strong, diverse, and complementary to each other. If a model has a lower performance compared to other models, it may not be as useful in improving the overall performance of the ensemble.\n",
    "\n",
    "For example, a Decision Tree may be good at capturing complex non-linear relationships in the data, but may overfit and generalize poorly to new data. By combining it with other models, such as a Random Forest or an XGBoost, which are good at reducing overfitting and improving generalization, we may be able to achieve a better overall performance."
   ]
  },
  {
   "cell_type": "code",
   "execution_count": null,
   "metadata": {},
   "outputs": [
    {
     "name": "stderr",
     "output_type": "stream",
     "text": [
      "Processing feature sets:   0%|                                                                                | 0/2 [00:00<?, ?it/s]\n",
      "Processing models:   0%|                                                                                     | 0/12 [00:00<?, ?it/s]\u001b[A\n",
      "Processing models:   8%|██████▍                                                                      | 1/12 [00:00<00:01,  8.15it/s]\u001b[A"
     ]
    },
    {
     "name": "stdout",
     "output_type": "stream",
     "text": [
      "Included columns are four_best\n",
      "----Model name = MLR-----\n",
      "Mean MAE = 26616.25674088499\n",
      "Mean R^2 = 0.7785689271742278\n",
      "--------------------------------\n",
      "----Model name = Ridge-----\n",
      "Mean MAE = 26599.440508498716\n",
      "Mean R^2 = 0.7746719673248091\n",
      "--------------------------------\n"
     ]
    },
    {
     "name": "stderr",
     "output_type": "stream",
     "text": [
      "\n",
      "Processing models:  17%|████████████▊                                                                | 2/12 [00:00<00:01,  8.09it/s]\u001b[A\n",
      "Processing models:  25%|███████████████████▎                                                         | 3/12 [00:00<00:01,  8.08it/s]\u001b[A\n",
      "Processing models:  33%|█████████████████████████▋                                                   | 4/12 [00:00<00:01,  7.92it/s]\u001b[A"
     ]
    },
    {
     "name": "stdout",
     "output_type": "stream",
     "text": [
      "----Model name = Lasso-----\n",
      "Mean MAE = 26601.92640671683\n",
      "Mean R^2 = 0.7780198462273582\n",
      "--------------------------------\n",
      "----Model name = ElasticNet-----\n",
      "Mean MAE = 26789.413366882312\n",
      "Mean R^2 = 0.7644477160511751\n",
      "--------------------------------\n"
     ]
    },
    {
     "name": "stderr",
     "output_type": "stream",
     "text": [
      "\n",
      "Processing models:  42%|████████████████████████████████                                             | 5/12 [00:00<00:00,  7.44it/s]\u001b[A"
     ]
    },
    {
     "name": "stdout",
     "output_type": "stream",
     "text": [
      "----Model name = DecisionTree-----\n",
      "Mean MAE = 21212.991627287272\n",
      "Mean R^2 = 0.8825167876069655\n",
      "--------------------------------\n",
      "----Model name = RandomForest-----\n",
      "Mean MAE = 8333.210605510258\n",
      "Mean R^2 = 0.9675254811616097\n",
      "--------------------------------\n"
     ]
    },
    {
     "name": "stderr",
     "output_type": "stream",
     "text": [
      "\n",
      "Processing models:  50%|██████████████████████████████████████▌                                      | 6/12 [00:15<00:26,  4.49s/it]\u001b[A"
     ]
    },
    {
     "name": "stdout",
     "output_type": "stream",
     "text": [
      "----Model name = XGBoost-----\n",
      "Mean MAE = 7595.017851789607\n",
      "Mean R^2 = 0.9743572942919319\n",
      "--------------------------------\n"
     ]
    },
    {
     "name": "stderr",
     "output_type": "stream",
     "text": [
      "\n",
      "Processing models:  58%|████████████████████████████████████████████▉                                | 7/12 [00:19<00:21,  4.32s/it]\u001b[A"
     ]
    },
    {
     "name": "stdout",
     "output_type": "stream",
     "text": [
      "----Model name = LGBM-----\n",
      "Mean MAE = 15613.64169009724\n",
      "Mean R^2 = 0.9236789470007842\n",
      "--------------------------------\n"
     ]
    },
    {
     "name": "stderr",
     "output_type": "stream",
     "text": [
      "\n",
      "Processing models:  67%|███████████████████████████████████████████████████▎                         | 8/12 [00:21<00:15,  3.82s/it]\u001b[A"
     ]
    },
    {
     "name": "stdout",
     "output_type": "stream",
     "text": [
      "----Model name = MLP-----\n",
      "Mean MAE = 35055.04090629098\n",
      "Mean R^2 = 0.6352426945137079\n",
      "--------------------------------\n"
     ]
    },
    {
     "name": "stderr",
     "output_type": "stream",
     "text": [
      "\n",
      "Processing models:  75%|█████████████████████████████████████████████████████████▊                   | 9/12 [00:52<00:35, 11.87s/it]\u001b[A"
     ]
    },
    {
     "name": "stdout",
     "output_type": "stream",
     "text": [
      "----Model name = SVR-----\n",
      "Mean MAE = 58091.50104669239\n",
      "Mean R^2 = -0.07010787529107096\n",
      "--------------------------------\n"
     ]
    },
    {
     "name": "stderr",
     "output_type": "stream",
     "text": [
      "\n",
      "Processing models:  83%|███████████████████████████████████████████████████████████████▎            | 10/12 [00:59<00:20, 10.33s/it]\u001b[A"
     ]
    }
   ],
   "source": [
    "import pandas as pd\n",
    "import numpy as np\n",
    "from sklearn.model_selection import cross_val_score, KFold\n",
    "from sklearn.linear_model import Ridge\n",
    "from sklearn.tree import DecisionTreeRegressor\n",
    "from sklearn.ensemble import RandomForestRegressor\n",
    "from xgboost import XGBRegressor\n",
    "from lightgbm import LGBMRegressor\n",
    "from sklearn.neural_network import MLPRegressor\n",
    "from sklearn.metrics import mean_absolute_error, r2_score\n",
    "from tqdm import tqdm\n",
    "import matplotlib.pyplot as plt\n",
    "from matplotlib.gridspec import GridSpec\n",
    "import lightgbm as lgb\n",
    "import matplotlib.pyplot as plt\n",
    "\n",
    "imputed_data = pd.read_csv(\"imputed_data.csv\")\n",
    "\n",
    "# Define feature sets\n",
    "feature_sets = {\n",
    "    \"four_best\": imputed_data[['OverallQual','GrLivArea','TotalBsmtSF','1stFlrSF']],\n",
    "    \"ten_best\": imputed_data[['OverallQual','GrLivArea','TotalBsmtSF','1stFlrSF','GarageArea',    \n",
    "                   'YearBuilt','YearRemodAdd','BsmtFinSF1','BsmtUnfSF','Fireplaces']]\n",
    "}\n",
    "\n",
    "# add stacked ensemble next\n",
    "\n",
    "# Define regression models\n",
    "regression_models = {\n",
    "    \"MLR\" : LinearRegression(),\n",
    "    \"Ridge\" : Ridge(),\n",
    "    \"Lasso\" : Lasso(),\n",
    "    \"ElasticNet\" : ElasticNet(),\n",
    "    \"DecisionTree\" : DecisionTreeRegressor(max_depth=6),\n",
    "    \"RandomForest\" : RandomForestRegressor(),\n",
    "    \"XGBoost\": XGBRegressor(),\n",
    "    \"LGBM\": LGBMRegressor(),\n",
    "    \"MLP\":  MLPRegressor(),\n",
    "    \"SVR\": SVR(),\n",
    "    \"Stacked\": StackingRegressor(estimators=base_estimators, final_estimator=final_estimator),\n",
    "    \"KernelRidge\":KernelRidge()\n",
    "}\n",
    "\n",
    "# Define base estimators to be used in the ensemble\n",
    "base_estimators = [('rf', RandomForestRegressor()),\n",
    "                   ('xgb', XGBRegressor()),\n",
    "                   ('dt', DecisionTreeRegressor())]\n",
    "\n",
    "# Define a final estimator to combine the predictions of the base estimators\n",
    "final_estimator = StackingRegressor(estimators=[('ridge', RidgeCV()),\n",
    "                                                 ('lasso', LassoCV())])\n",
    "\n",
    "# Define a StackingRegressor object with the base and final estimator\n",
    "stacked = StackingRegressor(estimators=base_estimators, final_estimator=final_estimator)\n",
    "\n",
    "# Define cross-validation strategy\n",
    "cv = KFold(n_splits=5, shuffle=True)\n",
    "\n",
    "# Define function to fit and evaluate each model using cross-validation\n",
    "def make_regression(x, y, model, model_name, verbose=True):\n",
    "    mae = -cross_val_score(model, x, y, cv=cv, scoring='neg_mean_absolute_error')\n",
    "    r2 = cross_val_score(model, x, y, cv=cv, scoring='r2')\n",
    "    \n",
    "    if verbose:\n",
    "        print(\"----Model name = {}-----\".format(model_name))\n",
    "        print(\"Mean MAE = \"'{}'.format(mae.mean()))\n",
    "        print(\"Mean R^2 = \"'{}'.format(r2.mean()))\n",
    "        print(\"--------------------------------\")\n",
    "    \n",
    "    trained_model = model.fit(x, y)\n",
    "    \n",
    "    return trained_model, mae.mean(), r2.mean()\n",
    "\n",
    "# Initialize dictionary to store prediction results\n",
    "pred_dict = {\n",
    "    \"regression_model\": [],\n",
    "    \"feature_set\": [],\n",
    "    \"MAE\": [],\n",
    "    \"R2\": [],\n",
    "    \"Train Error\": [],\n",
    "    \"Test Error\": []\n",
    "}\n",
    "\n",
    "# Fit and evaluate each model using cross-validation for each feature set\n",
    "for feature_set_name in tqdm(feature_sets.keys(), desc=\"Processing feature sets\"):\n",
    "    feature_set = feature_sets[feature_set_name]\n",
    "    print(\"Included columns are {}\".format(feature_set_name))\n",
    "    for model_name in tqdm(regression_models.keys(), desc=\"Processing models\"):\n",
    "        y = imputed_data[\"SalePrice\"]\n",
    "        x = feature_set\n",
    "        trained_model, mae, r2 = make_regression(x, y, regression_models[model_name], model_name, verbose=True)\n",
    "        pred_dict[\"regression_model\"].append(model_name)\n",
    "        pred_dict[\"feature_set\"].append(feature_set_name)\n",
    "        pred_dict[\"MAE\"].append(mae)\n",
    "        pred_dict[\"R2\"].append(r2)\n",
    "        \n",
    "        # calculate train error and append it to the dictionary\n",
    "        y_train_pred = trained_model.predict(x)\n",
    "        train_error = mean_absolute_error(y, y_train_pred)\n",
    "        pred_dict[\"Train Error\"].append(train_error)\n",
    "\n",
    "        # calculate test error and append it to the dictionary\n",
    "        test_error = -cross_val_score(trained_model, x, y, cv=cv, scoring='neg_mean_absolute_error').mean()\n",
    "        pred_dict[\"Test Error\"].append(test_error)\n",
    "\n",
    "# Create a dataframe and reshape it to a bar chart format\n",
    "pred_df = pd.DataFrame.from_dict(pred_dict)\n",
    "\n",
    "# Pivot the dataframe to reshape it to a bar chart format\n",
    "df_barh = pred_df.pivot(index='feature_set', columns='regression_model', values='R2')\n",
    "df_train = pred_df.pivot(index='feature_set', columns='regression_model', values='Train Error')\n",
    "df_test = pred_df.pivot(index='feature_set', columns='regression_model', values='Test Error')\n"
   ]
  },
  {
   "cell_type": "code",
   "execution_count": null,
   "metadata": {},
   "outputs": [],
   "source": []
  },
  {
   "cell_type": "code",
   "execution_count": null,
   "metadata": {},
   "outputs": [],
   "source": [
    "def add_bar_labels(ax, model_names):\n",
    "    for i, bar in enumerate(ax.patches):\n",
    "        # Get the bar's width and position\n",
    "        width = bar.get_width()\n",
    "        y_pos = bar.get_y()\n",
    "\n",
    "        # Define the label's position and alignment\n",
    "        label_x_pos = (width + 0.01) if width >= 0 else 0\n",
    "        label_align = 'left' if width >= 0 else 'right'\n",
    "\n",
    "        # Find the correct model name using row and column indices\n",
    "        row_idx = i % len(df_barh.index)\n",
    "        col_idx = i // len(df_barh.index)\n",
    "        model_name = model_names[col_idx]\n",
    "\n",
    "        # Add the label to the bar with the model name\n",
    "        label_text = f'{model_name}: {bar.get_width():.2f}'\n",
    "        ax.text(label_x_pos, y_pos + bar.get_height() / 2, label_text, va='center', ha=label_align, color='black', fontsize=14, fontweight='bold')\n",
    "\n",
    "# Sort the DataFrame by the maximum R-squared value in each row\n",
    "df_barh = df_barh.loc[df_barh.max(axis=1).sort_values(ascending=False).index]\n",
    "\n",
    "# Create a figure\n",
    "fig, ax = plt.subplots(figsize=(8, 11))\n",
    "\n",
    "# Plot the bar chart without legend\n",
    "df_barh.plot(kind='barh', ax=ax, color=['red', 'blue', 'green', 'purple', 'orange', 'brown'], legend=False)\n",
    "\n",
    "# Set title and labels with custom font size and weight\n",
    "ax.set_title('Regression Model Performance by Feature Set', fontsize=16, fontweight='bold')\n",
    "ax.set_xlabel('R-squared', fontsize=14, fontweight='bold')\n",
    "ax.set_ylabel('Feature Set', fontsize=14, fontweight='bold')\n",
    "\n",
    "# Update x and y tick labels with custom font size and weight\n",
    "ax.tick_params(axis='x', labelsize=12, labelrotation=0)\n",
    "ax.tick_params(axis='y', labelsize=12, labelrotation=0)\n",
    "plt.setp(ax.get_xticklabels(), fontweight='bold')\n",
    "plt.setp(ax.get_yticklabels(), fontweight='bold')\n",
    "\n",
    "# Set y-tick locations manually\n",
    "ax.set_yticks(range(len(df_barh.index)))\n",
    "\n",
    "# Set y-tick labels manually\n",
    "ax.set_yticklabels(df_barh.index)\n",
    "\n",
    "# Add labels to the bars\n",
    "model_names = df_barh.columns.tolist()\n",
    "add_bar_labels(ax, model_names)\n",
    "\n",
    "# Show the figure\n",
    "plt.show()\n",
    "\n",
    "# Get highest performing model for each feature set\n",
    "best_models = df_barh.idxmax(axis=1)\n",
    "\n",
    "# Get performance of highest performing model for each feature set\n",
    "best_performances = df_barh.max(axis=1)\n",
    "\n",
    "# Print results\n",
    "for i, feature_set in enumerate(df_barh.index):\n",
    "    print(f'Highest performing model based on maximizing R^2 for {feature_set}: {best_models[i]} ({best_performances[i]:.2f})')"
   ]
  },
  {
   "cell_type": "code",
   "execution_count": null,
   "metadata": {},
   "outputs": [],
   "source": [
    "# Create a function to generate the charts\n",
    "def create_chart(df, chart_title):\n",
    "    # Sort the DataFrame by the maximum value in each row\n",
    "    df = df.loc[df.max(axis=1).sort_values(ascending=False).index]\n",
    "\n",
    "    # Create a figure\n",
    "    fig, ax = plt.subplots(figsize=(8, 11))\n",
    "\n",
    "    # Plot the bar chart without legend\n",
    "    df.plot(kind='barh', ax=ax, color=['red', 'blue', 'green', 'purple', 'orange', 'brown'], legend=False)\n",
    "\n",
    "    # Set title and labels with custom font size and weight\n",
    "    ax.set_title(chart_title, fontsize=16, fontweight='bold')\n",
    "    ax.set_xlabel('Error', fontsize=14, fontweight='bold')\n",
    "    ax.set_ylabel('Feature Set', fontsize=14, fontweight='bold')\n",
    "\n",
    "    # Update x and y tick labels with custom font size and weight\n",
    "    ax.tick_params(axis='x', labelsize=12, labelrotation=0)\n",
    "    ax.tick_params(axis='y', labelsize=12, labelrotation=0)\n",
    "    plt.setp(ax.get_xticklabels(), fontweight='bold')\n",
    "    plt.setp(ax.get_yticklabels(), fontweight='bold')\n",
    "\n",
    "    # Set y-tick locations manually\n",
    "    ax.set_yticks(range(len(df.index)))\n",
    "\n",
    "    # Set y-tick labels manually\n",
    "    ax.set_yticklabels(df.index)\n",
    "\n",
    "    # Add labels to the bars\n",
    "    model_names = df.columns.tolist()\n",
    "    add_bar_labels(ax, model_names)\n",
    "\n",
    "    # Show the figure\n",
    "    plt.show()\n",
    "\n",
    "# Create charts for df_train and df_test\n",
    "create_chart(df_train, 'Regression Model Training Error by Feature Set')\n",
    "create_chart(df_test, 'Regression Model Test Error by Feature Set')\n",
    "\n",
    "# Get models with the minimum training error for each feature set\n",
    "min_train_error_models = df_train.idxmin(axis=1)\n",
    "\n",
    "# Get the minimum training error for each feature set\n",
    "min_train_errors = df_train.min(axis=1)\n",
    "\n",
    "# Print results\n",
    "print(\"Best Model that Minimizes Training Error:\")\n",
    "for i, feature_set in enumerate(df_train.index):\n",
    "    print(f'{feature_set}: {min_train_error_models[i]} ({min_train_errors[i]:.2f})')\n",
    "\n",
    "print(\"\\n\")\n",
    "\n",
    "# Get models with the minimum test error for each feature set\n",
    "min_test_error_models = df_test.idxmin(axis=1)\n",
    "\n",
    "# Get the minimum test error for each feature set\n",
    "min_test_errors = df_test.min(axis=1)\n",
    "\n",
    "# Print results\n",
    "print(\"Best Model that Minimizes Test Error:\")\n",
    "for i, feature_set in enumerate(df_test.index):\n",
    "    print(f'{feature_set}: {min_test_error_models[i]} ({min_test_errors[i]:.2f})')"
   ]
  }
 ],
 "metadata": {
  "kernelspec": {
   "display_name": "Python 3",
   "language": "python",
   "name": "python3"
  },
  "language_info": {
   "codemirror_mode": {
    "name": "ipython",
    "version": 3
   },
   "file_extension": ".py",
   "mimetype": "text/x-python",
   "name": "python",
   "nbconvert_exporter": "python",
   "pygments_lexer": "ipython3",
   "version": "3.8.3"
  }
 },
 "nbformat": 4,
 "nbformat_minor": 4
}
